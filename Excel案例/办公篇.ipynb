{
 "cells": [
  {
   "cell_type": "markdown",
   "metadata": {},
   "source": [
    "## 极客Python之效率革命"
   ]
  },
  {
   "cell_type": "code",
   "execution_count": 8,
   "metadata": {},
   "outputs": [],
   "source": [
    "import openpyxl"
   ]
  },
  {
   "cell_type": "code",
   "execution_count": 9,
   "metadata": {},
   "outputs": [],
   "source": [
    "wb = openpyxl.Workbook()\n",
    "\n",
    "# 获取活跃的工作表\n",
    "ws = wb.active\n",
    "\n",
    "# 数据可以直接赋值给单元格\n",
    "ws['A1'] = 520\n",
    "\n",
    "# 可以整行添加\n",
    "ws.append([1, 2, 3])\n",
    "\n",
    "# Python 类型将自动转换\n",
    "import datetime\n",
    "ws['A3'] = datetime.datetime.now()\n",
    "\n",
    "# 保存文件\n",
    "wb.save(\"demo.xlsx\")"
   ]
  },
  {
   "cell_type": "markdown",
   "metadata": {},
   "source": [
    "### 豆瓣排行250的电影爬虫代码"
   ]
  },
  {
   "cell_type": "code",
   "execution_count": 11,
   "metadata": {},
   "outputs": [],
   "source": [
    "import requests\n",
    "import bs4\n",
    "import re\n",
    "import openpyxl\n",
    "\n",
    "def open_url(url):\n",
    "    # 使用代理\n",
    "    # proxies = {\"http\": \"127.0.0.1:1080\", \"https\": \"127.0.0.1:1080\"}\n",
    "    headers = {'user-agent': 'Mozilla/5.0 (Windows NT 10.0; WOW64) AppleWebKit/537.36 (KHTML, like Gecko) Chrome/57.0.2987.98 Safari/537.36'}\n",
    "\n",
    "    # res = requests.get(url, headers=headers, proxies=proxies)\n",
    "    res = requests.get(url, headers=headers)\n",
    "\n",
    "    return res\n",
    "\n",
    "def find_movies(res):\n",
    "    soup = bs4.BeautifulSoup(res.text, 'html.parser')\n",
    "\n",
    "    # 电影名\n",
    "    movies = []\n",
    "    targets = soup.find_all(\"div\", class_=\"hd\")\n",
    "    for each in targets:\n",
    "        movies.append(each.a.span.text)\n",
    "\n",
    "    # 评分\n",
    "    ranks = []\n",
    "    targets = soup.find_all(\"span\", class_=\"rating_num\")\n",
    "    for each in targets:\n",
    "        ranks.append(each.text)\n",
    "\n",
    "    # 资料\n",
    "    messages = []\n",
    "    targets = soup.find_all(\"div\", class_=\"bd\")\n",
    "    for each in targets:\n",
    "        try:\n",
    "            messages.append(each.p.text.split('\\n')[1].strip() + each.p.text.split('\\n')[2].strip())\n",
    "        except:\n",
    "            continue\n",
    "\n",
    "    result = []\n",
    "    length = len(movies)\n",
    "    for i in range(length):\n",
    "        result.append([movies[i], ranks[i], messages[i]])\n",
    "\n",
    "    return result\n",
    "\n",
    "# 找出一共有多少个页面\n",
    "def find_depth(res):\n",
    "    soup = bs4.BeautifulSoup(res.text, 'html.parser')\n",
    "    depth = soup.find('span', class_='next').previous_sibling.previous_sibling.text\n",
    "\n",
    "    return int(depth)\n",
    "\n",
    "def save_to_excel(result):\n",
    "    wb = openpyxl.Workbook()\n",
    "    ws = wb.active\n",
    "\n",
    "    ws['A1'] = \"电影名称\"\n",
    "    ws['B1'] = \"评分\"\n",
    "    ws['C1'] = \"资料\"\n",
    "\n",
    "    for each in result:\n",
    "        ws.append(each)\n",
    "\n",
    "    wb.save(\"豆瓣TOP250电影.xlsx\")\n",
    "\n",
    "def main():\n",
    "    host = \"https://movie.douban.com/top250\"\n",
    "    res = open_url(host)\n",
    "    depth = find_depth(res)\n",
    "\n",
    "    result = []\n",
    "    for i in range(depth):\n",
    "        url = host + '/?start=' + str(25 * i)\n",
    "        res = open_url(url)\n",
    "        result.extend(find_movies(res))\n",
    "\n",
    "    '''\n",
    "    with open(\"test.txt\", \"w\", encoding=\"utf-8\") as f:\n",
    "        for each in result:\n",
    "            f.write(each)\n",
    "    '''\n",
    "\n",
    "    save_to_excel(result)\n",
    "    \n",
    "if __name__ == \"__main__\":\n",
    "    main()"
   ]
  },
  {
   "cell_type": "code",
   "execution_count": null,
   "metadata": {},
   "outputs": [],
   "source": []
  }
 ],
 "metadata": {
  "kernelspec": {
   "display_name": "Python 3",
   "language": "python",
   "name": "python3"
  },
  "language_info": {
   "codemirror_mode": {
    "name": "ipython",
    "version": 3
   },
   "file_extension": ".py",
   "mimetype": "text/x-python",
   "name": "python",
   "nbconvert_exporter": "python",
   "pygments_lexer": "ipython3",
   "version": "3.6.5"
  }
 },
 "nbformat": 4,
 "nbformat_minor": 2
}
